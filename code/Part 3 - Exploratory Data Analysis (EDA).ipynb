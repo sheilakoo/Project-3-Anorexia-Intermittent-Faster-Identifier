{
 "cells": [
  {
   "cell_type": "markdown",
   "id": "ca010c45",
   "metadata": {},
   "source": [
    "**Previous:** [Part 2 - Data Cleaning](Part%202%20-%20Data%20Cleaning.ipynb)"
   ]
  },
  {
   "cell_type": "markdown",
   "id": "f82dff61",
   "metadata": {},
   "source": [
    "<img src='http://imgur.com/1ZcRyrc.png' style='float: left; margin: 20px; height: 55px'>\n",
    "\n",
    "# Project 3: Reddit Webscraping\n",
    "\n",
    "## Part 3 - Exploratory Data Analysis (EDA)\n",
    "\n",
    "---\n",
    "## Contents\n",
    "---\n",
    "\n",
    "### [Part 1 - Web Scraping](Part%201%20-%20Web%20Scraping.ipynb)\n",
    "1. Introduction\n",
    "2. Import - Web Scraping using PRAW\n",
    "\n",
    "### [Part 2 - Data Cleaning](Part%202%20-%20Data%20Cleaning.ipynb)\n",
    "1. Import\n",
    "2. Cleaning - Data Frame and Text\n",
    "\n",
    "### [Part 3 - Exploratory Data Analysis (EDA)](Part%203%20-%20Exploratory%20Data%20Analysis%20(EDA).ipynb)\n",
    "1. [Import](#1.-Import)\n",
    "2. [Exploratory Data Analysis - Trends](#2.-Exploratory-Data-Analysis---Trends)\n",
    "3. [Exploratory Data Analysis - Unigrams](#3.1-Unigrams)\n",
    "4. [Exploratory Data Analysis - Bigrams](#4.1-Bigrams)\n",
    "5. [Exploratory Data Analysis - Trigrams](#5.1-Trigrams)\n",
    "\n",
    "### [Part 4 - Pre-processing & Modelling](Part%204%20-%20Pre-processing%20&%20Modelling.ipynb)\n",
    "1. Import\n",
    "2. Pre-processing - Binarizing The 2 Classes, Train-test Split\n",
    "3. Modelling - Feature Engineering, Comparing Against Other Models\n",
    "4. Conclusion - Summary, Recommendations"
   ]
  },
  {
   "cell_type": "markdown",
   "id": "6b2feda7",
   "metadata": {},
   "source": [
    "---\n",
    "## 1. Import\n",
    "---\n",
    "### 1.1 Libraries"
   ]
  },
  {
   "cell_type": "code",
   "execution_count": 4,
   "id": "c0a4989a",
   "metadata": {},
   "outputs": [],
   "source": [
    "import pandas as pd\n",
    "import numpy as np\n",
    "import seaborn as sns\n",
    "import matplotlib.pyplot as plt\n",
    "from matplotlib_venn import venn2\n",
    "import string\n",
    "import nltk\n",
    "from nltk.stem import WordNetLemmatizer\n",
    "from nltk.stem.porter import PorterStemmer\n",
    "from nltk.corpus import stopwords\n",
    "from sklearn.feature_extraction.text import CountVectorizer\n",
    "import ast"
   ]
  },
  {
   "cell_type": "code",
   "execution_count": 5,
   "id": "b842aaa1",
   "metadata": {},
   "outputs": [],
   "source": [
    "# Set display options\n",
    "pd.set_option('display.max_colwidth', None)"
   ]
  },
  {
   "cell_type": "markdown",
   "id": "495ca184",
   "metadata": {},
   "source": [
    "### 1.2 Cleaned Data"
   ]
  },
  {
   "cell_type": "code",
   "execution_count": 6,
   "id": "b57a456b",
   "metadata": {},
   "outputs": [
    {
     "data": {
      "text/html": [
       "<div>\n",
       "<style scoped>\n",
       "    .dataframe tbody tr th:only-of-type {\n",
       "        vertical-align: middle;\n",
       "    }\n",
       "\n",
       "    .dataframe tbody tr th {\n",
       "        vertical-align: top;\n",
       "    }\n",
       "\n",
       "    .dataframe thead th {\n",
       "        text-align: right;\n",
       "    }\n",
       "</style>\n",
       "<table border=\"1\" class=\"dataframe\">\n",
       "  <thead>\n",
       "    <tr style=\"text-align: right;\">\n",
       "      <th></th>\n",
       "      <th>score</th>\n",
       "      <th>total_comments</th>\n",
       "      <th>subreddit</th>\n",
       "      <th>post_type</th>\n",
       "      <th>time_uploaded</th>\n",
       "      <th>title_&amp;_text</th>\n",
       "      <th>title_text_stemmed</th>\n",
       "      <th>title_text_lemmatized</th>\n",
       "      <th>stemmed_round_1</th>\n",
       "      <th>lemmatized_round_1</th>\n",
       "      <th>stemmed_round_2</th>\n",
       "      <th>lemmatized_round_2</th>\n",
       "      <th>stemmed_round_3</th>\n",
       "      <th>lemmatized_round_3</th>\n",
       "    </tr>\n",
       "  </thead>\n",
       "  <tbody>\n",
       "    <tr>\n",
       "      <th>0</th>\n",
       "      <td>1</td>\n",
       "      <td>0</td>\n",
       "      <td>intermittentfasting</td>\n",
       "      <td>new</td>\n",
       "      <td>26/9/23 7:57</td>\n",
       "      <td>Does taking flavoured creatine break a fast Taking one scoop roughly 3g It has sucralose sweetener</td>\n",
       "      <td>['take', 'flavour', 'creatin', 'break', 'fast', 'take', 'scoop', 'roughli', '3g', 'sucralos', 'sweeten']</td>\n",
       "      <td>['taking', 'flavoured', 'creatine', 'break', 'fast', 'taking', 'scoop', 'roughly', '3g', 'sucralose', 'sweetener']</td>\n",
       "      <td>['take', 'flavour', 'creatin', 'break', 'fast', 'take', 'one', 'scoop', 'roughli', '3g', 'sucralos', 'sweeten']</td>\n",
       "      <td>['taking', 'flavoured', 'creatine', 'break', 'fast', 'taking', 'one', 'scoop', 'roughly', '3g', 'sucralose', 'sweetener']</td>\n",
       "      <td>['take', 'flavour', 'creatin', 'break', 'fast', 'take', 'one', 'scoop', 'roughli', '3g', 'sucralos', 'sweeten']</td>\n",
       "      <td>['taking', 'flavoured', 'creatine', 'break', 'fast', 'taking', 'one', 'scoop', 'roughly', '3g', 'sucralose', 'sweetener']</td>\n",
       "      <td>['take', 'flavour', 'creatin', 'break', 'fast', 'take', 'one', 'scoop', 'roughli', '3g', 'sucralos', 'sweeten']</td>\n",
       "      <td>['taking', 'flavoured', 'creatine', 'break', 'fast', 'taking', 'one', 'scoop', 'roughly', '3g', 'sucralose', 'sweetener']</td>\n",
       "    </tr>\n",
       "    <tr>\n",
       "      <th>1</th>\n",
       "      <td>6</td>\n",
       "      <td>1</td>\n",
       "      <td>intermittentfasting</td>\n",
       "      <td>new</td>\n",
       "      <td>26/9/23 7:46</td>\n",
       "      <td>I lost 120 lbsshe lost 80 One meal a day from here on</td>\n",
       "      <td>['120', 'lbsshe', '80', 'meal', '']</td>\n",
       "      <td>['120', 'lbsshe', '80', 'meal', '']</td>\n",
       "      <td>['lost', '120', 'lbsshe', 'lost', '80', 'one', 'day', '']</td>\n",
       "      <td>['lost', '120', 'lbsshe', 'lost', '80', 'one', 'day', '']</td>\n",
       "      <td>['lost', '120', 'lbsshe', 'lost', '80', 'one', 'meal', 'day', '']</td>\n",
       "      <td>['lost', '120', 'lbsshe', 'lost', '80', 'one', 'meal', 'day', '']</td>\n",
       "      <td>['lost', '120', 'lbsshe', 'lost', '80', 'one', 'meal', 'day', '']</td>\n",
       "      <td>['lost', '120', 'lbsshe', 'lost', '80', 'one', 'meal', 'day', '']</td>\n",
       "    </tr>\n",
       "  </tbody>\n",
       "</table>\n",
       "</div>"
      ],
      "text/plain": [
       "   score  total_comments            subreddit post_type time_uploaded  \\\n",
       "0      1               0  intermittentfasting       new  26/9/23 7:57   \n",
       "1      6               1  intermittentfasting       new  26/9/23 7:46   \n",
       "\n",
       "                                                                                         title_&_text  \\\n",
       "0  Does taking flavoured creatine break a fast Taking one scoop roughly 3g It has sucralose sweetener   \n",
       "1                                             I lost 120 lbsshe lost 80 One meal a day from here on     \n",
       "\n",
       "                                                                                         title_text_stemmed  \\\n",
       "0  ['take', 'flavour', 'creatin', 'break', 'fast', 'take', 'scoop', 'roughli', '3g', 'sucralos', 'sweeten']   \n",
       "1                                                                       ['120', 'lbsshe', '80', 'meal', '']   \n",
       "\n",
       "                                                                                                title_text_lemmatized  \\\n",
       "0  ['taking', 'flavoured', 'creatine', 'break', 'fast', 'taking', 'scoop', 'roughly', '3g', 'sucralose', 'sweetener']   \n",
       "1                                                                                 ['120', 'lbsshe', '80', 'meal', '']   \n",
       "\n",
       "                                                                                                   stemmed_round_1  \\\n",
       "0  ['take', 'flavour', 'creatin', 'break', 'fast', 'take', 'one', 'scoop', 'roughli', '3g', 'sucralos', 'sweeten']   \n",
       "1                                                        ['lost', '120', 'lbsshe', 'lost', '80', 'one', 'day', '']   \n",
       "\n",
       "                                                                                                          lemmatized_round_1  \\\n",
       "0  ['taking', 'flavoured', 'creatine', 'break', 'fast', 'taking', 'one', 'scoop', 'roughly', '3g', 'sucralose', 'sweetener']   \n",
       "1                                                                  ['lost', '120', 'lbsshe', 'lost', '80', 'one', 'day', '']   \n",
       "\n",
       "                                                                                                   stemmed_round_2  \\\n",
       "0  ['take', 'flavour', 'creatin', 'break', 'fast', 'take', 'one', 'scoop', 'roughli', '3g', 'sucralos', 'sweeten']   \n",
       "1                                                ['lost', '120', 'lbsshe', 'lost', '80', 'one', 'meal', 'day', '']   \n",
       "\n",
       "                                                                                                          lemmatized_round_2  \\\n",
       "0  ['taking', 'flavoured', 'creatine', 'break', 'fast', 'taking', 'one', 'scoop', 'roughly', '3g', 'sucralose', 'sweetener']   \n",
       "1                                                          ['lost', '120', 'lbsshe', 'lost', '80', 'one', 'meal', 'day', '']   \n",
       "\n",
       "                                                                                                   stemmed_round_3  \\\n",
       "0  ['take', 'flavour', 'creatin', 'break', 'fast', 'take', 'one', 'scoop', 'roughli', '3g', 'sucralos', 'sweeten']   \n",
       "1                                                ['lost', '120', 'lbsshe', 'lost', '80', 'one', 'meal', 'day', '']   \n",
       "\n",
       "                                                                                                          lemmatized_round_3  \n",
       "0  ['taking', 'flavoured', 'creatine', 'break', 'fast', 'taking', 'one', 'scoop', 'roughly', '3g', 'sucralose', 'sweetener']  \n",
       "1                                                          ['lost', '120', 'lbsshe', 'lost', '80', 'one', 'meal', 'day', '']  "
      ]
     },
     "execution_count": 6,
     "metadata": {},
     "output_type": "execute_result"
    }
   ],
   "source": [
    "# Import data saved in previous notebook (Part 2)\n",
    "reddit = pd.read_csv('reddit_cleaned_final.csv')\n",
    "\n",
    "reddit.head()"
   ]
  },
  {
   "cell_type": "markdown",
   "id": "37f9991a",
   "metadata": {},
   "source": [
    "> <font size = 3 color = \"crimson\"> Same comment regarding the missing csv files. I am not going to run this as I know it is not present.</font>"
   ]
  },
  {
   "cell_type": "markdown",
   "id": "f442dd6a",
   "metadata": {},
   "source": [
    "## Data Dictionary\n",
    "\n",
    "| Column                             | Datatype  | Explanation                                           |\n",
    "| ---------------------------------- | --------- | ----------------------------------------------------- |\n",
    "| **title**                          | object    | Title of the Reddit post                              |\n",
    "| **post_text**                      | object    | Text content of the Reddit post                       |\n",
    "| **id**                             | object    | Unique identifier for the post                        |\n",
    "| **score**                          | int64     | Score or upvotes of the post                          |\n",
    "| **total_comments**                 | int64     | Total number of comments on the post                  |\n",
    "| **post_url**                       | object    | URL of the post                                       |\n",
    "| **subreddit**                      | object    | Subreddit where the post was made                     |\n",
    "| **post_type**                      | object    | Type or format of the post                            |\n",
    "| **time_uploaded**                  | object    | Timestamp when the post was uploaded                  |\n",
    "| **title_&_text**                   | object    | Title and text content with punctuations removed      |\n",
    "| **title_text_stemmed**             | object    | Title and text content after stemming                 |\n",
    "| **title_text_lemmatized**          | object    | Title and text content after lemmatization            |\n",
    "| **stemmed_round_1**                | object    | Stemmed title and text after 1st round of feature engineering|\n",
    "| **lemmatized_round_1**             | object    | Lemmatized title and text after 1st round of feature engineering|\n",
    "| **stemmed_round_2**                | object    | Stemmed title and text after 2nd round of feature engineering|\n",
    "| **lemmatized_round_2**             | object    | Lemmatized title and text after 2nd round of feature engineering|\n",
    "| **stemmed_round_3**                | object    | Stemmed title and text after 3rd round of feature engineering|\n",
    "| **lemmatized_round_3**             | object    | Lemmatized title and text after 3rd round of feature engineering|"
   ]
  },
  {
   "cell_type": "markdown",
   "id": "9bbfbd89",
   "metadata": {},
   "source": [
    "---\n",
    "## 2. Exploratory Data Analysis - Trends\n",
    "---\n",
    "### 2.1 Overview of Data:"
   ]
  },
  {
   "cell_type": "code",
   "execution_count": 8,
   "id": "2fcf7bc4",
   "metadata": {},
   "outputs": [
    {
     "data": {
      "image/png": "[encoded data removed]",
      "text/plain": [
       "<Figure size 1080x288 with 1 Axes>"
      ]
     },
     "metadata": {
      "needs_background": "light"
     },
     "output_type": "display_data"
    }
   ],
   "source": [
    "# Plot total number of posts for each subreddit\n",
    "subreddit_count = reddit['subreddit'].value_counts()\n",
    "\n",
    "ax = subreddit_count.plot(kind='barh', figsize=(15,4))\n",
    "plt.title('Number of Posts Scraped', fontsize=14)\n",
    "plt.xlabel('Count', fontsize=10)\n",
    "ax.set_yticklabels(subreddit_count.index, rotation=10) \n",
    "\n",
    "for i, v in enumerate(subreddit_count):\n",
    "    ax.text(v + 3, i, str(v), va='top', fontsize=10)"
   ]
  },
  {
   "cell_type": "markdown",
   "id": "70fc47f5",
   "metadata": {},
   "source": [
    "**Analysis**: The cleaned dataset has approximately equal posts scraped for each class - i.e. r/intermittentfasting and r/AnorexiaNervosa. We will proceed to examine the data."
   ]
  },
  {
   "cell_type": "markdown",
   "id": "59d4b2fd",
   "metadata": {},
   "source": [
    "### 2.2 Analysis of Text Length - Word Count and Character Count"
   ]
  },
  {
   "cell_type": "code",
   "execution_count": 9,
   "id": "9ec2eb2b",
   "metadata": {},
   "outputs": [],
   "source": [
    "# Create new features measuring character count and word count for entire dataset\n",
    "df['word_count'] = df['punctuation_removed_title_and_text'].apply(lambda x: len(x.split()))\n",
    "df['char_count']= df['punctuation_removed_title_and_text'].apply(lambda x: len(x))"
   ]
  },
  {
   "cell_type": "code",
   "execution_count": 10,
   "id": "c62955ff",
   "metadata": {},
   "outputs": [],
   "source": [
    "# Separate posts for different subreddits\n",
    "IF_posts = df[df['subreddit']=='intermittentfasting']\n",
    "AN_posts = df[df['subreddit']=='AnorexiaNervosa']"
   ]
  },
  {
   "cell_type": "markdown",
   "id": "1009f7ef",
   "metadata": {},
   "source": [
    "### 2.2.1 Analysing Word Count Statistics"
   ]
  },
  {
   "cell_type": "code",
   "execution_count": 11,
   "id": "c209d9f1",
   "metadata": {},
   "outputs": [
    {
     "data": {
      "text/html": [
       "<div>\n",
       "<style scoped>\n",
       "    .dataframe tbody tr th:only-of-type {\n",
       "        vertical-align: middle;\n",
       "    }\n",
       "\n",
       "    .dataframe tbody tr th {\n",
       "        vertical-align: top;\n",
       "    }\n",
       "\n",
       "    .dataframe thead th {\n",
       "        text-align: right;\n",
       "    }\n",
       "</style>\n",
       "<table border=\"1\" class=\"dataframe\">\n",
       "  <thead>\n",
       "    <tr style=\"text-align: right;\">\n",
       "      <th></th>\n",
       "      <th>count</th>\n",
       "      <th>mean</th>\n",
       "      <th>std</th>\n",
       "      <th>min</th>\n",
       "      <th>25%</th>\n",
       "      <th>50%</th>\n",
       "      <th>75%</th>\n",
       "      <th>max</th>\n",
       "    </tr>\n",
       "  </thead>\n",
       "  <tbody>\n",
       "    <tr>\n",
       "      <th>Both Subreddits</th>\n",
       "      <td>3960.0</td>\n",
       "      <td>88.04</td>\n",
       "      <td>104.01</td>\n",
       "      <td>0.0</td>\n",
       "      <td>20.0</td>\n",
       "      <td>54.0</td>\n",
       "      <td>118.0</td>\n",
       "      <td>1728.0</td>\n",
       "    </tr>\n",
       "    <tr>\n",
       "      <th>Intermittent Fasting</th>\n",
       "      <td>1978.0</td>\n",
       "      <td>61.60</td>\n",
       "      <td>77.83</td>\n",
       "      <td>1.0</td>\n",
       "      <td>15.0</td>\n",
       "      <td>35.0</td>\n",
       "      <td>77.0</td>\n",
       "      <td>975.0</td>\n",
       "    </tr>\n",
       "    <tr>\n",
       "      <th>Anorexia Nervosa</th>\n",
       "      <td>1982.0</td>\n",
       "      <td>114.42</td>\n",
       "      <td>119.09</td>\n",
       "      <td>0.0</td>\n",
       "      <td>34.0</td>\n",
       "      <td>82.0</td>\n",
       "      <td>158.0</td>\n",
       "      <td>1728.0</td>\n",
       "    </tr>\n",
       "  </tbody>\n",
       "</table>\n",
       "</div>"
      ],
      "text/plain": [
       "                       count    mean     std  min   25%   50%    75%     max\n",
       "Both Subreddits       3960.0   88.04  104.01  0.0  20.0  54.0  118.0  1728.0\n",
       "Intermittent Fasting  1978.0   61.60   77.83  1.0  15.0  35.0   77.0   975.0\n",
       "Anorexia Nervosa      1982.0  114.42  119.09  0.0  34.0  82.0  158.0  1728.0"
      ]
     },
     "execution_count": 11,
     "metadata": {},
     "output_type": "execute_result"
    }
   ],
   "source": [
    "# Get descriptive stats for word counts\n",
    "word_count_stats = {'Both Subreddits': reddit.word_count.describe().round(2),\n",
    "                    'Intermittent Fasting': IF_posts.word_count.describe().round(2),\n",
    "                    'Anorexia Nervosa': AN_posts.word_count.describe().round(2)\n",
    "                   }\n",
    "\n",
    "pd.DataFrame(word_count_stats).transpose()"
   ]
  },
  {
   "cell_type": "markdown",
   "id": "365404d6",
   "metadata": {},
   "source": [
    "### 2.2.2 Analysing Character Count Statistic"
   ]
  },
  {
   "cell_type": "code",
   "execution_count": 12,
   "id": "7dbecf96",
   "metadata": {},
   "outputs": [
    {
     "data": {
      "text/html": [
       "<div>\n",
       "<style scoped>\n",
       "    .dataframe tbody tr th:only-of-type {\n",
       "        vertical-align: middle;\n",
       "    }\n",
       "\n",
       "    .dataframe tbody tr th {\n",
       "        vertical-align: top;\n",
       "    }\n",
       "\n",
       "    .dataframe thead th {\n",
       "        text-align: right;\n",
       "    }\n",
       "</style>\n",
       "<table border=\"1\" class=\"dataframe\">\n",
       "  <thead>\n",
       "    <tr style=\"text-align: right;\">\n",
       "      <th></th>\n",
       "      <th>count</th>\n",
       "      <th>mean</th>\n",
       "      <th>std</th>\n",
       "      <th>min</th>\n",
       "      <th>25%</th>\n",
       "      <th>50%</th>\n",
       "      <th>75%</th>\n",
       "      <th>max</th>\n",
       "    </tr>\n",
       "  </thead>\n",
       "  <tbody>\n",
       "    <tr>\n",
       "      <th>Both Subreddits</th>\n",
       "      <td>3960.0</td>\n",
       "      <td>449.43</td>\n",
       "      <td>533.53</td>\n",
       "      <td>1.0</td>\n",
       "      <td>102.00</td>\n",
       "      <td>278.0</td>\n",
       "      <td>601.00</td>\n",
       "      <td>9264.0</td>\n",
       "    </tr>\n",
       "    <tr>\n",
       "      <th>Intermittent Fasting</th>\n",
       "      <td>1978.0</td>\n",
       "      <td>316.22</td>\n",
       "      <td>403.02</td>\n",
       "      <td>4.0</td>\n",
       "      <td>79.00</td>\n",
       "      <td>175.0</td>\n",
       "      <td>401.00</td>\n",
       "      <td>5021.0</td>\n",
       "    </tr>\n",
       "    <tr>\n",
       "      <th>Anorexia Nervosa</th>\n",
       "      <td>1982.0</td>\n",
       "      <td>582.37</td>\n",
       "      <td>609.40</td>\n",
       "      <td>1.0</td>\n",
       "      <td>174.25</td>\n",
       "      <td>418.0</td>\n",
       "      <td>804.75</td>\n",
       "      <td>9264.0</td>\n",
       "    </tr>\n",
       "  </tbody>\n",
       "</table>\n",
       "</div>"
      ],
      "text/plain": [
       "                       count    mean     std  min     25%    50%     75%  \\\n",
       "Both Subreddits       3960.0  449.43  533.53  1.0  102.00  278.0  601.00   \n",
       "Intermittent Fasting  1978.0  316.22  403.02  4.0   79.00  175.0  401.00   \n",
       "Anorexia Nervosa      1982.0  582.37  609.40  1.0  174.25  418.0  804.75   \n",
       "\n",
       "                         max  \n",
       "Both Subreddits       9264.0  \n",
       "Intermittent Fasting  5021.0  \n",
       "Anorexia Nervosa      9264.0  "
      ]
     },
     "execution_count": 12,
     "metadata": {},
     "output_type": "execute_result"
    }
   ],
   "source": [
    "# Get descriptive stats for char counts\n",
    "char_count_stats = {\n",
    "    'Both Subreddits': df.char_count.describe().round(2),\n",
    "    'Intermittent Fasting': IF_posts.char_count.describe().round(2),\n",
    "    'Anorexia Nervosa': AN_posts.char_count.describe().round(2)}\n",
    "\n",
    "pd.DataFrame(char_count_stats).transpose()"
   ]
  },
  {
   "cell_type": "markdown",
   "id": "9958f067",
   "metadata": {},
   "source": [
    "**Analysis for Word Count and Character Count:**\n",
    "- Both subreddits show high variance in word count, given the high standard deviation of 104. \n",
    "- r/AnorexiaNervosa has higher variance as the subreddit with the post with the lowest min word count (0 words) and highest max word count (1728 words).\n",
    "- The post with the highest max word count in r/intermittentfasting (975 words) is nearly half that of the highest max word count from r/AnorexiaNervosa.\n",
    "- Similar trends in variance, min and max are observed in the character counts. This is expected as character counts are related to the word count. **Hence, we will focus on the word counts only for the remaining analysis on text length**."
   ]
  },
  {
   "cell_type": "markdown",
   "id": "c9f0c843",
   "metadata": {},
   "source": [
    "> <font size = 3 color = \"crimson\"> Would be good to show some visualisations here. For example a histogram showing their relative word counts.</font>"
   ]
  },
  {
   "cell_type": "markdown",
   "id": "64143327",
   "metadata": {},
   "source": [
    "### 2.2.3 Treatment of Outliers in Word Count"
   ]
  },
  {
   "cell_type": "code",
   "execution_count": 70,
   "id": "850c46ed",
   "metadata": {},
   "outputs": [
    {
     "name": "stdout",
     "output_type": "stream",
     "text": [
      "Lower Bound: -127 words, Upper Bound: 265 words\n"
     ]
    }
   ],
   "source": [
    "# Calculate the interquartile range (IQR)\n",
    "Q1_wc = df['word_count'].quantile(0.25)\n",
    "Q3_wc = df['word_count'].quantile(0.75)\n",
    "IQR_wc = Q3_wc - Q1_wc\n",
    "\n",
    "# Define lower and upper bounds for outliers\n",
    "lower_bound_wc = Q1_wc - 1.5 * IQR_wc\n",
    "upper_bound_wc = Q3_wc + 1.5 * IQR_wc\n",
    "\n",
    "print(f'Lower Bound: {round(lower_bound_wc)} words, Upper Bound: {round(upper_bound_wc)} words')"
   ]
  },
  {
   "cell_type": "markdown",
   "id": "95a24a7a",
   "metadata": {},
   "source": [
    "**Note**: Given that word count cannot be negative, we will treat the lower bound as 0"
   ]
  },
  {
   "cell_type": "code",
   "execution_count": 71,
   "id": "3e5a6394",
   "metadata": {},
   "outputs": [
    {
     "name": "stdout",
     "output_type": "stream",
     "text": [
      "r/IntermittentFasting: Based on word count, 46 of 1978 posts are outliers.\n",
      "r/AnorexiaNervosa: Based on word count, 179 of 1982 posts are outliers.\n"
     ]
    }
   ],
   "source": [
    "len_outliers = df[(df['word_count'] == 0) | (df['word_count'] > upper_bound_wc)]\n",
    "\n",
    "print(f'r/IntermittentFasting: Based on word count, {len_outliers[len_outliers['subreddit']=='intermittentfasting'].shape[0]} of {IF_posts.shape[0]} posts are outliers.')\n",
    "print(f'r/AnorexiaNervosa: Based on word count, {len_outliers[len_outliers['subreddit']=='AnorexiaNervosa'].shape[0]} of {AN_posts.shape[0]} posts are outliers.')"
   ]
  },
  {
   "cell_type": "code",
   "execution_count": 72,
   "id": "8f0b6341",
   "metadata": {},
   "outputs": [],
   "source": [
    "# Filter both subreddits to remove outliers\n",
    "ol_df = df[(df['word_count'] > 0) & (df['word_count']<(round(upper_bound_wc)))]\n",
    "ol_IF = IF_posts[(IF_posts['word_count'] > 0) & (IF_posts['word_count']<upper_bound_wc.round())]\n",
    "ol_AN = AN_posts[(AN_posts['word_count'] > 0) & (AN_posts['word_count']<upper_bound_wc.round())]"
   ]
  },
  {
   "cell_type": "markdown",
   "id": "7b9f4511",
   "metadata": {},
   "source": [
    "### 2.2.4 Distribution of Text Length"
   ]
  },
  {
   "cell_type": "markdown",
   "id": "d495acd9",
   "metadata": {},
   "source": [
    "**Note**: Outlier values have been removed before plotting the chart below."
   ]
  },
  {
   "cell_type": "code",
   "execution_count": 73,
   "id": "77b544ac",
   "metadata": {},
   "outputs": [
    {
     "data": {
      "text/plain": [
       "Text(0.5, 1.0, 'Distribution of Text Length')"
      ]
     },
     "execution_count": 73,
     "metadata": {},
     "output_type": "execute_result"
    },
    {
     "data": {
      "image/png": "[encoded data removed]",
      "text/plain": [
       "<Figure size 490.375x360 with 1 Axes>"
      ]
     },
     "metadata": {
      "needs_background": "light"
     },
     "output_type": "display_data"
    }
   ],
   "source": [
    "# Plot distribution of text length for both subreddits\n",
    "sns.displot(ol_reddit, x='word_count', binwidth=10, palette='rocket',hue='subreddit',multiple='stack')\n",
    "\n",
    "# Add a title to the plot\n",
    "plt.title('Distribution of Text Length')"
   ]
  },
  {
   "cell_type": "markdown",
   "id": "b4812ad8",
   "metadata": {},
   "source": [
    "**Analysis for Distribution of Text Length:**  \n",
    "- For both sub-reddits most posts are between 10-50 words in length.\n",
    "- As seen from the right-skew in the distribution, posts in r/intermittentfasting tend to have fewer words than that of r/AnorexiaNervosa"
   ]
  },
  {
   "cell_type": "markdown",
   "id": "e994cf1f",
   "metadata": {},
   "source": [
    "> <font size = 3 color = \"crimson\"> Okay this is the kind of visualisation I meant above. But now this order is a bit confusing to me as I don't really see the difference between this and the previous word count/character count analysis section.</font>"
   ]
  },
  {
   "cell_type": "markdown",
   "id": "8d9d9215",
   "metadata": {},
   "source": [
    "### 2.2.5 Upper Outliers for Text Length"
   ]
  },
  {
   "cell_type": "code",
   "execution_count": 74,
   "id": "e21703f8",
   "metadata": {},
   "outputs": [],
   "source": [
    "# Filter for the upper bound outliers\n",
    "up_ol_df = df[df['word_count']>upper_bound_wc.round()]"
   ]
  },
  {
   "cell_type": "code",
   "execution_count": 75,
   "id": "f028d7b7",
   "metadata": {},
   "outputs": [
    {
     "data": {
      "text/plain": [
       "Text(0.5, 1.0, 'Distribution of Text Length - Upper Outliers')"
      ]
     },
     "execution_count": 75,
     "metadata": {},
     "output_type": "execute_result"
    },
    {
     "data": {
      "image/png": "[encoded data removed]",
      "text/plain": [
       "<Figure size 490.375x360 with 1 Axes>"
      ]
     },
     "metadata": {
      "needs_background": "light"
     },
     "output_type": "display_data"
    }
   ],
   "source": [
    "# Plot distribution of text length (upper outliers) for both sub-reddits\n",
    "sns.displot(up_ol_df, x='word_count',binwidth=50, palette='rocket',hue='subreddit',multiple='stack')\n",
    "\n",
    "# Add a title to the plot\n",
    "plt.title('Distribution of Text Length - Upper Outliers')"
   ]
  },
  {
   "cell_type": "markdown",
   "id": "32dbb20c",
   "metadata": {},
   "source": [
    "**Analysis for Distribution of Text Length (Upper Outliers):**\n",
    "- Similar to the analysis for text length, there are few posts from r/intermittentfasting in the upper outliers\n",
    "- On the extreme high end of titles and posts exceeding 800 words, there are approximately equal number of posts from both subreddits"
   ]
  },
  {
   "cell_type": "markdown",
   "id": "eed3e6aa",
   "metadata": {},
   "source": [
    "---\n",
    "## 3. Exploratory Data Analysis\n",
    "### 3.1 Unigrams\n",
    "---\n",
    "### 3.1.1 Comparing words in stemming vs lemmatizing"
   ]
  },
  {
   "cell_type": "code",
   "execution_count": 19,
   "id": "c2ff86e2",
   "metadata": {},
   "outputs": [],
   "source": [
    "# Custom function to identify top 100 unigrams\n",
    "def top_unigram(df,title):\n",
    "    cv = CountVectorizer()\n",
    "    vector = cv.fit_transform(df[title])\n",
    "    vector_df = pd.DataFrame(vector.toarray(),columns=[cv.get_feature_names_out()])\n",
    "    vector_freq = vector_df.sum(axis=0) \n",
    "    vector_freq = pd.DataFrame({'term':cv.get_feature_names_out(),'freq':vector_freq})\n",
    "    top100 = vector_freq.sort_values(by='freq',ascending=False)[0:100]\n",
    "    return top100.reset_index(drop=True)"
   ]
  },
  {
   "cell_type": "code",
   "execution_count": 20,
   "id": "9e851521",
   "metadata": {},
   "outputs": [],
   "source": [
    "# Apply custom function to stemmed and lemmatized text from each subreddit\n",
    "IF_unigram_S = top_unigram(IF_posts,'title_text_stemmed')\n",
    "IF_unigram_L = top_unigram(IF_posts,'title_text_lemmatized')\n",
    "AN_unigram_S = top_unigram(AN_posts,'title_text_stemmed')\n",
    "AN_unigram_L = top_unigram(AN_posts,'title_text_lemmatized')"
   ]
  },
  {
   "cell_type": "code",
   "execution_count": 21,
   "id": "ed3f651f",
   "metadata": {},
   "outputs": [
    {
     "data": {
      "text/html": [
       "<div>\n",
       "<style scoped>\n",
       "    .dataframe tbody tr th:only-of-type {\n",
       "        vertical-align: middle;\n",
       "    }\n",
       "\n",
       "    .dataframe tbody tr th {\n",
       "        vertical-align: top;\n",
       "    }\n",
       "\n",
       "    .dataframe thead th {\n",
       "        text-align: right;\n",
       "    }\n",
       "</style>\n",
       "<table border=\"1\" class=\"dataframe\">\n",
       "  <thead>\n",
       "    <tr style=\"text-align: right;\">\n",
       "      <th></th>\n",
       "      <th>Intermittent Fasting (Stemmed)</th>\n",
       "      <th>Intermittent Fasting (Lemmatized)</th>\n",
       "      <th>Anorexia Nervosa (Stemmed)</th>\n",
       "      <th>Anorexia Nervosa (Lemmatized)</th>\n",
       "    </tr>\n",
       "  </thead>\n",
       "  <tbody>\n",
       "    <tr>\n",
       "      <th>0</th>\n",
       "      <td>fast</td>\n",
       "      <td>fasting</td>\n",
       "      <td>cant</td>\n",
       "      <td>cant</td>\n",
       "    </tr>\n",
       "    <tr>\n",
       "      <th>1</th>\n",
       "      <td>week</td>\n",
       "      <td>fast</td>\n",
       "      <td>look</td>\n",
       "      <td>ed</td>\n",
       "    </tr>\n",
       "    <tr>\n",
       "      <th>2</th>\n",
       "      <td>hour</td>\n",
       "      <td>week</td>\n",
       "      <td>ed</td>\n",
       "      <td>anorexia</td>\n",
       "    </tr>\n",
       "    <tr>\n",
       "      <th>3</th>\n",
       "      <td>work</td>\n",
       "      <td>hour</td>\n",
       "      <td>anorexia</td>\n",
       "      <td>people</td>\n",
       "    </tr>\n",
       "    <tr>\n",
       "      <th>4</th>\n",
       "      <td>lb</td>\n",
       "      <td>lb</td>\n",
       "      <td>peopl</td>\n",
       "      <td>recovery</td>\n",
       "    </tr>\n",
       "    <tr>\n",
       "      <th>5</th>\n",
       "      <td>start</td>\n",
       "      <td>168</td>\n",
       "      <td>recoveri</td>\n",
       "      <td>thing</td>\n",
       "    </tr>\n",
       "    <tr>\n",
       "      <th>6</th>\n",
       "      <td>168</td>\n",
       "      <td>pound</td>\n",
       "      <td>thing</td>\n",
       "      <td>never</td>\n",
       "    </tr>\n",
       "    <tr>\n",
       "      <th>7</th>\n",
       "      <td>lose</td>\n",
       "      <td>year</td>\n",
       "      <td>gain</td>\n",
       "      <td>look</td>\n",
       "    </tr>\n",
       "    <tr>\n",
       "      <th>8</th>\n",
       "      <td>pound</td>\n",
       "      <td>meal</td>\n",
       "      <td>recov</td>\n",
       "      <td>else</td>\n",
       "    </tr>\n",
       "    <tr>\n",
       "      <th>9</th>\n",
       "      <td>year</td>\n",
       "      <td>work</td>\n",
       "      <td>disord</td>\n",
       "      <td>hate</td>\n",
       "    </tr>\n",
       "  </tbody>\n",
       "</table>\n",
       "</div>"
      ],
      "text/plain": [
       "  Intermittent Fasting (Stemmed) Intermittent Fasting (Lemmatized)  \\\n",
       "0                           fast                           fasting   \n",
       "1                           week                              fast   \n",
       "2                           hour                              week   \n",
       "3                           work                              hour   \n",
       "4                             lb                                lb   \n",
       "5                          start                               168   \n",
       "6                            168                             pound   \n",
       "7                           lose                              year   \n",
       "8                          pound                              meal   \n",
       "9                           year                              work   \n",
       "\n",
       "  Anorexia Nervosa (Stemmed) Anorexia Nervosa (Lemmatized)  \n",
       "0                       cant                          cant  \n",
       "1                       look                            ed  \n",
       "2                         ed                      anorexia  \n",
       "3                   anorexia                        people  \n",
       "4                      peopl                      recovery  \n",
       "5                   recoveri                         thing  \n",
       "6                      thing                         never  \n",
       "7                       gain                          look  \n",
       "8                      recov                          else  \n",
       "9                     disord                          hate  "
      ]
     },
     "execution_count": 21,
     "metadata": {},
     "output_type": "execute_result"
    }
   ],
   "source": [
    "# Compare unigrams derived from stemmed and lemmatized text\n",
    "unigram_df = {'Intermittent Fasting (Stemmed)': IF_unigram_S['term'],\n",
    "'Intermittent Fasting (Lemmatized)': IF_unigram_L['term'],\n",
    "    'Anorexia Nervosa (Stemmed)': AN_unigram_S['term'],\n",
    "    'Anorexia Nervosa (Lemmatized)': AN_unigram_L['term']}\n",
    "\n",
    "pd.DataFrame(unigram_df)[0:10]"
   ]
  },
  {
   "cell_type": "markdown",
   "id": "40b004d8",
   "metadata": {},
   "source": [
    "**Analysis for Unigrams (Stemmed vs Lemmatized):** \n",
    "- We see that stemming produces better difference in the processed words. For example, the top 2 lemmatized unigrams are **fast** and **fasting**. Hence, we will primarily use stemming for farther processing of text."
   ]
  },
  {
   "cell_type": "markdown",
   "id": "4230a5f8",
   "metadata": {},
   "source": [
    "> <font size = 3 color = \"crimson\"> Would be good to show the difference before and after stemming, perhaps with one example sentence/post.</font>"
   ]
  },
  {
   "cell_type": "markdown",
   "id": "42a2cd25",
   "metadata": {},
   "source": [
    "### 3.1.2 Visualising Top Unigrams"
   ]
  },
  {
   "cell_type": "code",
   "execution_count": 22,
   "id": "a4d2e1f9",
   "metadata": {},
   "outputs": [
    {
     "data": {
      "image/png": "[encoded data removed]",
      "text/plain": [
       "<Figure size 1440x720 with 2 Axes>"
      ]
     },
     "metadata": {
      "needs_background": "light"
     },
     "output_type": "display_data"
    }
   ],
   "source": [
    "# Plot top 10 stemmed unigrams\n",
    "fig, axes = plt.subplots(1, 2, figsize=(20, 10))\n",
    "\n",
    "# Plot the top common words before removing stop words\n",
    "sns.barplot(data=IF_unigram_S[0:10] , y='term', x='freq', color='orange', ax=axes[0])\n",
    "axes[0].set_ylabel(None, fontsize=14)\n",
    "axes[0].set_xlabel('Frequency', fontsize=14)\n",
    "axes[0].set_title('r/intermittentfasting',fontsize=14)\n",
    "\n",
    "\n",
    "# Plot the top common words before removing stop words\n",
    "sns.barplot(data=AN_unigram_S[0:10], y='term', x='freq', color='grey', ax=axes[1])\n",
    "axes[1].set_ylabel(None, fontsize=14)\n",
    "axes[1].set_xlabel('Frequency', fontsize=14)\n",
    "axes[1].set_title('r/AnorexiaNervosa',fontsize=14)\n",
    "\n",
    "# Add data labels (values) to the bars\n",
    "def add_data_labels(ax):\n",
    "    for p in ax.patches:\n",
    "        ax.annotate(f'{p.get_width():.0f}', (p.get_width(), p.get_y() + p.get_height() / 2), ha='right', va='center',fontsize=14, color='white')\n",
    "# Add data labels to both subplots\n",
    "add_data_labels(axes[0])\n",
    "add_data_labels(axes[1])\n",
    "\n",
    "# Add an overall title for all four plots\n",
    "fig.suptitle('Comparison of 10 Top Unigrams (Stemmed)', fontsize=16)\n",
    "\n",
    "plt.show()"
   ]
  },
  {
   "cell_type": "markdown",
   "id": "047c4db8",
   "metadata": {},
   "source": [
    "**Analysis for Top Unigrams :**  \n",
    "- **r/intermittentfasting**: The top word is largely related to the act of fasting. Other notable trends include words related to measurement of time - e.g. week, hour, year\n",
    "- **r/AnorexiaNervosa**: Top words are make clear references to recovery or experiences of disordered eating/behaviour - e.g. ed, anorexia, recoveri"
   ]
  },
  {
   "cell_type": "markdown",
   "id": "744b84d5",
   "metadata": {},
   "source": [
    "> <font size = 3 color = \"crimson\"> Would have been good to flag out things like '168' and explained what that meant since to someone who knows nothing about intermittent fasting that would seem like a nonsense number in the middle of words.</font>"
   ]
  },
  {
   "cell_type": "markdown",
   "id": "8287029b",
   "metadata": {},
   "source": [
    "### 3.2 Creating Stop Words from Unigrams\n",
    "### 3.2.1 Round 1"
   ]
  },
  {
   "cell_type": "markdown",
   "id": "85ec80c9",
   "metadata": {},
   "source": [
    "**Note**:\n",
    "We will proceed to compare the 100 top unigrams (stemmed) across both subreddits to identify words that are particular to each subreddit:"
   ]
  },
  {
   "cell_type": "code",
   "execution_count": 24,
   "id": "9b83622d",
   "metadata": {},
   "outputs": [
    {
     "data": {
      "text/plain": [
       "<matplotlib_venn._common.VennDiagram at 0x7ff3318ef220>"
      ]
     },
     "execution_count": 24,
     "metadata": {},
     "output_type": "execute_result"
    },
    {
     "data": {
      "image/png": "[encoded data removed]",
      "text/plain": [
       "<Figure size 432x288 with 1 Axes>"
      ]
     },
     "metadata": {},
     "output_type": "display_data"
    }
   ],
   "source": [
    "# Check number of common words in the top 100 unigrams\n",
    "common_words = list(set(IF_unigram_S['term'].tolist()).intersection(set(AN_unigram_S['term'].tolist())))\n",
    "\n",
    "venn2([set(IF_unigram_S['term']),set(AN_unigram_S['term'])],('r/intermittentfasting','r/AnorexiaNervosa'))"
   ]
  },
  {
   "cell_type": "code",
   "execution_count": 32,
   "id": "a9ebadb8",
   "metadata": {},
   "outputs": [
    {
     "name": "stdout",
     "output_type": "stream",
     "text": [
      "['gain', 'long', 'work', 'could', 'use', 'everyon', 'look', 'right', 'lose', 'get', 'els', 'say', 'thank', 'comment', 'tri', 'peopl', 'didnt', 'littl', 'ago', 'thought', 'life', 'year', 'end', 'never', 'week', 'start', 'around', 'stop', 'meal', 'without', 'love', 'thing', 'cant', 'hope', 'sure', 'normal', 'post', 'alway', 'past']\n"
     ]
    }
   ],
   "source": [
    "# Retrieve common words\n",
    "print(common_words)"
   ]
  },
  {
   "cell_type": "markdown",
   "id": "2b86cb2e",
   "metadata": {},
   "source": [
    "> <font size = 3 color = \"crimson\"> Any comments about these common words? Analysis as to why both these groups mention these words a lot or maybe difficulties in classifying? This venn diagram is also not the most meaningful as I cannot see what these words are. Maybe comment on the proportion and why you think (for example) it is a very big overlap and this needs to be dealt with.</font>"
   ]
  },
  {
   "cell_type": "markdown",
   "id": "a4e6305f",
   "metadata": {},
   "source": [
    "### 3c. Round 2 - Creating Stop Words from Unigrams"
   ]
  },
  {
   "cell_type": "markdown",
   "id": "652d5ece",
   "metadata": {},
   "source": [
    "**Note**:\n",
    "We will repeat the process of stopword removal by additional common words from the top 100 unigrams generated from the cleaned text:"
   ]
  },
  {
   "cell_type": "code",
   "execution_count": 26,
   "id": "8de201d1",
   "metadata": {},
   "outputs": [],
   "source": [
    "# Define custom function to convert string data to list - based on the state of data\n",
    "def string_to_list(text):\n",
    "    result = ast.literal_eval(text)\n",
    "    return result"
   ]
  },
  {
   "cell_type": "code",
   "execution_count": 27,
   "id": "96721cca",
   "metadata": {},
   "outputs": [],
   "source": [
    "# Define custom function to remove common words - where input is a list, based on the data\n",
    "def remove_common (text):\n",
    "    no_common = [word for word in text if word not in common_words]\n",
    "    return ' '.join(no_common)"
   ]
  },
  {
   "cell_type": "code",
   "execution_count": null,
   "id": "d94d35cc",
   "metadata": {},
   "outputs": [],
   "source": [
    "# Apply both custom functions to remove first set of common words\n",
    "IF_posts['no_common'] = IF_posts['title_text_stemmed'].apply(string_to_list).apply(remove_common)\n",
    "AN_posts['no_common'] = AN_posts['title_text_stemmed'].apply(string_to_list).apply(remove_common)"
   ]
  },
  {
   "cell_type": "code",
   "execution_count": 33,
   "id": "0a095173",
   "metadata": {},
   "outputs": [],
   "source": [
    "# Retrieve top 100 unigrams for the cleaned text (common words removed)\n",
    "re_IF_unigram_S = top_unigram(IF_posts,'no_common')\n",
    "re_AN_unigram_S = top_unigram(AN_posts,'no_common')"
   ]
  },
  {
   "cell_type": "code",
   "execution_count": 34,
   "id": "d3362d22",
   "metadata": {
    "scrolled": true
   },
   "outputs": [
    {
     "data": {
      "text/html": [
       "<div>\n",
       "<style scoped>\n",
       "    .dataframe tbody tr th:only-of-type {\n",
       "        vertical-align: middle;\n",
       "    }\n",
       "\n",
       "    .dataframe tbody tr th {\n",
       "        vertical-align: top;\n",
       "    }\n",
       "\n",
       "    .dataframe thead th {\n",
       "        text-align: right;\n",
       "    }\n",
       "</style>\n",
       "<table border=\"1\" class=\"dataframe\">\n",
       "  <thead>\n",
       "    <tr style=\"text-align: right;\">\n",
       "      <th></th>\n",
       "      <th>Intermittent Fasting (original)</th>\n",
       "      <th>Intermittent Fasting (removed)</th>\n",
       "      <th>Anorexia Nervosa (original)</th>\n",
       "      <th>Anorexia Nervosa (removed)</th>\n",
       "    </tr>\n",
       "  </thead>\n",
       "  <tbody>\n",
       "    <tr>\n",
       "      <th>0</th>\n",
       "      <td>fast</td>\n",
       "      <td>fast</td>\n",
       "      <td>cant</td>\n",
       "      <td>ed</td>\n",
       "    </tr>\n",
       "    <tr>\n",
       "      <th>1</th>\n",
       "      <td>week</td>\n",
       "      <td>hour</td>\n",
       "      <td>look</td>\n",
       "      <td>anorexia</td>\n",
       "    </tr>\n",
       "    <tr>\n",
       "      <th>2</th>\n",
       "      <td>hour</td>\n",
       "      <td>lb</td>\n",
       "      <td>ed</td>\n",
       "      <td>recoveri</td>\n",
       "    </tr>\n",
       "    <tr>\n",
       "      <th>3</th>\n",
       "      <td>work</td>\n",
       "      <td>168</td>\n",
       "      <td>anorexia</td>\n",
       "      <td>recov</td>\n",
       "    </tr>\n",
       "    <tr>\n",
       "      <th>4</th>\n",
       "      <td>lb</td>\n",
       "      <td>pound</td>\n",
       "      <td>peopl</td>\n",
       "      <td>disord</td>\n",
       "    </tr>\n",
       "    <tr>\n",
       "      <th>5</th>\n",
       "      <td>start</td>\n",
       "      <td>intermitt</td>\n",
       "      <td>recoveri</td>\n",
       "      <td>make</td>\n",
       "    </tr>\n",
       "    <tr>\n",
       "      <th>6</th>\n",
       "      <td>168</td>\n",
       "      <td>omad</td>\n",
       "      <td>thing</td>\n",
       "      <td>hate</td>\n",
       "    </tr>\n",
       "    <tr>\n",
       "      <th>7</th>\n",
       "      <td>lose</td>\n",
       "      <td>goal</td>\n",
       "      <td>gain</td>\n",
       "      <td>restrict</td>\n",
       "    </tr>\n",
       "    <tr>\n",
       "      <th>8</th>\n",
       "      <td>pound</td>\n",
       "      <td>loss</td>\n",
       "      <td>recov</td>\n",
       "      <td>bad</td>\n",
       "    </tr>\n",
       "    <tr>\n",
       "      <th>9</th>\n",
       "      <td>year</td>\n",
       "      <td>progress</td>\n",
       "      <td>disord</td>\n",
       "      <td>ill</td>\n",
       "    </tr>\n",
       "  </tbody>\n",
       "</table>\n",
       "</div>"
      ],
      "text/plain": [
       "  Intermittent Fasting (original) Intermittent Fasting (removed)  \\\n",
       "0                            fast                           fast   \n",
       "1                            week                           hour   \n",
       "2                            hour                             lb   \n",
       "3                            work                            168   \n",
       "4                              lb                          pound   \n",
       "5                           start                      intermitt   \n",
       "6                             168                           omad   \n",
       "7                            lose                           goal   \n",
       "8                           pound                           loss   \n",
       "9                            year                       progress   \n",
       "\n",
       "  Anorexia Nervosa (original) Anorexia Nervosa (removed)  \n",
       "0                        cant                         ed  \n",
       "1                        look                   anorexia  \n",
       "2                          ed                   recoveri  \n",
       "3                    anorexia                      recov  \n",
       "4                       peopl                     disord  \n",
       "5                    recoveri                       make  \n",
       "6                       thing                       hate  \n",
       "7                        gain                   restrict  \n",
       "8                       recov                        bad  \n",
       "9                      disord                        ill  "
      ]
     },
     "execution_count": 34,
     "metadata": {},
     "output_type": "execute_result"
    }
   ],
   "source": [
    "# Compare original top 10 unigrams with new top 10 unigrams (common words removed)\n",
    "re_unigram_df = {\n",
    "    'Intermittent Fasting (original)': IF_unigram_S['term'],\n",
    "'Intermittent Fasting (removed)': re_IF_unigram_S['term'],\n",
    "    'Anorexia Nervosa (original)': AN_unigram_S['term'],\n",
    "    'Anorexia Nervosa (removed)': re_AN_unigram_S['term']}\n",
    "\n",
    "pd.DataFrame(re_unigram_df)[0:10]"
   ]
  },
  {
   "cell_type": "code",
   "execution_count": 44,
   "id": "8aa624e2",
   "metadata": {},
   "outputs": [
    {
     "data": {
      "text/plain": [
       "<matplotlib_venn._common.VennDiagram at 0x7ff3331402e0>"
      ]
     },
     "execution_count": 44,
     "metadata": {},
     "output_type": "execute_result"
    },
    {
     "data": {
      "image/png": "[encoded data removed]",
      "text/plain": [
       "<Figure size 432x288 with 1 Axes>"
      ]
     },
     "metadata": {},
     "output_type": "display_data"
    }
   ],
   "source": [
    "# Check number of new common words in the top 100 unigrams in new list (common words removed)\n",
    "common_words_2 = list(set(re_IF_unigram_S['term'].tolist()).intersection(set(re_AN_unigram_S['term'].tolist())))\n",
    "\n",
    "venn2([set(re_IF_unigram_S['term']),set(re_AN_unigram_S['term'])],('r/intermittentfasting','r/AnorexiaNervosa'))"
   ]
  },
  {
   "cell_type": "code",
   "execution_count": 47,
   "id": "13a712d9",
   "metadata": {
    "scrolled": true
   },
   "outputs": [
    {
     "name": "stdout",
     "output_type": "stream",
     "text": [
      "['advic', 'want', 'actual', 'healthi', 'anyth', 'pretti', 'hard', 'make', 'notic', 'went', 'felt', 'id', 'time', 'find', 'ill', 'come', 'almost', 'period', 'two', 'made']\n"
     ]
    }
   ],
   "source": [
    "# Retrieve common words (second round)\n",
    "print(common_words_2)\n",
    "\n",
    "# Extend the common_words list with second list of common words\n",
    "common_words.extend(common_words_2)"
   ]
  },
  {
   "cell_type": "markdown",
   "id": "584c3d01",
   "metadata": {},
   "source": [
    "> <font size = 3 color = \"crimson\"> Similar to the above, any comments on the changes to the ratio of common words? And comments on the common words themselves? And once again I feel like the words being removed are actually quite interesting in terms of telling you what people are talking about. Is the ability to classify really damaged if you leave these in? Just interesting to know if they really make such a huge difference.</font>"
   ]
  },
  {
   "cell_type": "markdown",
   "id": "c1cc4bac",
   "metadata": {},
   "source": [
    "### 3.2.3 Round 3 "
   ]
  },
  {
   "cell_type": "markdown",
   "id": "a19edbe5",
   "metadata": {},
   "source": [
    "**Note**:\n",
    "We will repeat the process of stopword removal a third time by generating a last set of common words from the top 100 unigrams generated from the cleaned text:"
   ]
  },
  {
   "cell_type": "code",
   "execution_count": 48,
   "id": "ccbf00cb",
   "metadata": {},
   "outputs": [],
   "source": [
    "# Define custom function to remove common words - where input is a string, based on the data\n",
    "def remove_common_2 (text):\n",
    "    text = text.split()\n",
    "    no_common = [word for word in text if word not in common_words]\n",
    "    return ' '.join(no_common)"
   ]
  },
  {
   "cell_type": "code",
   "execution_count": 49,
   "id": "0248131d",
   "metadata": {
    "scrolled": true
   },
   "outputs": [
    {
     "name": "stderr",
     "output_type": "stream",
     "text": [
      "/var/folders/jz/qcwfx1nj09v3vnhrlf56x74c0000gn/T/ipykernel_23152/3462669912.py:2: SettingWithCopyWarning: \n",
      "A value is trying to be set on a copy of a slice from a DataFrame.\n",
      "Try using .loc[row_indexer,col_indexer] = value instead\n",
      "\n",
      "See the caveats in the documentation: https://pandas.pydata.org/pandas-docs/stable/user_guide/indexing.html#returning-a-view-versus-a-copy\n",
      "  IF_posts['no_common_2'] = IF_posts['no_common'].apply(remove_common_2)\n",
      "/var/folders/jz/qcwfx1nj09v3vnhrlf56x74c0000gn/T/ipykernel_23152/3462669912.py:3: SettingWithCopyWarning: \n",
      "A value is trying to be set on a copy of a slice from a DataFrame.\n",
      "Try using .loc[row_indexer,col_indexer] = value instead\n",
      "\n",
      "See the caveats in the documentation: https://pandas.pydata.org/pandas-docs/stable/user_guide/indexing.html#returning-a-view-versus-a-copy\n",
      "  AN_posts['no_common_2'] = AN_posts['no_common'].apply(remove_common_2)\n"
     ]
    }
   ],
   "source": [
    "# Remove common words from cleaned text (common words removed once)\n",
    "IF_posts['no_common_2'] = IF_posts['no_common'].apply(remove_common_2)\n",
    "AN_posts['no_common_2'] = AN_posts['no_common'].apply(remove_common_2)"
   ]
  },
  {
   "cell_type": "code",
   "execution_count": 51,
   "id": "34eced94",
   "metadata": {},
   "outputs": [],
   "source": [
    "# Compare original top 10 unigrams with new top 10 unigrams (common words removed twoce)\n",
    "re_IF_unigram_S_2 = top_unigram(IF_posts,'no_common_2')\n",
    "re_AN_unigram_S_2 = top_unigram(AN_posts,'no_common_2')"
   ]
  },
  {
   "cell_type": "code",
   "execution_count": 54,
   "id": "f232dcf4",
   "metadata": {
    "scrolled": true
   },
   "outputs": [
    {
     "data": {
      "text/html": [
       "<div>\n",
       "<style scoped>\n",
       "    .dataframe tbody tr th:only-of-type {\n",
       "        vertical-align: middle;\n",
       "    }\n",
       "\n",
       "    .dataframe tbody tr th {\n",
       "        vertical-align: top;\n",
       "    }\n",
       "\n",
       "    .dataframe thead th {\n",
       "        text-align: right;\n",
       "    }\n",
       "</style>\n",
       "<table border=\"1\" class=\"dataframe\">\n",
       "  <thead>\n",
       "    <tr style=\"text-align: right;\">\n",
       "      <th></th>\n",
       "      <th>Intermittent Fasting (original)</th>\n",
       "      <th>Intermittent Fasting (removed twice)</th>\n",
       "      <th>Anorexia Nervosa (original)</th>\n",
       "      <th>Anorexia Nervosa (removed twice)</th>\n",
       "    </tr>\n",
       "  </thead>\n",
       "  <tbody>\n",
       "    <tr>\n",
       "      <th>0</th>\n",
       "      <td>fast</td>\n",
       "      <td>fast</td>\n",
       "      <td>cant</td>\n",
       "      <td>ed</td>\n",
       "    </tr>\n",
       "    <tr>\n",
       "      <th>1</th>\n",
       "      <td>week</td>\n",
       "      <td>hour</td>\n",
       "      <td>look</td>\n",
       "      <td>anorexia</td>\n",
       "    </tr>\n",
       "    <tr>\n",
       "      <th>2</th>\n",
       "      <td>hour</td>\n",
       "      <td>lb</td>\n",
       "      <td>ed</td>\n",
       "      <td>recoveri</td>\n",
       "    </tr>\n",
       "    <tr>\n",
       "      <th>3</th>\n",
       "      <td>work</td>\n",
       "      <td>168</td>\n",
       "      <td>anorexia</td>\n",
       "      <td>recov</td>\n",
       "    </tr>\n",
       "    <tr>\n",
       "      <th>4</th>\n",
       "      <td>lb</td>\n",
       "      <td>pound</td>\n",
       "      <td>peopl</td>\n",
       "      <td>disord</td>\n",
       "    </tr>\n",
       "    <tr>\n",
       "      <th>5</th>\n",
       "      <td>start</td>\n",
       "      <td>intermitt</td>\n",
       "      <td>recoveri</td>\n",
       "      <td>hate</td>\n",
       "    </tr>\n",
       "    <tr>\n",
       "      <th>6</th>\n",
       "      <td>168</td>\n",
       "      <td>omad</td>\n",
       "      <td>thing</td>\n",
       "      <td>restrict</td>\n",
       "    </tr>\n",
       "    <tr>\n",
       "      <th>7</th>\n",
       "      <td>lose</td>\n",
       "      <td>goal</td>\n",
       "      <td>gain</td>\n",
       "      <td>bad</td>\n",
       "    </tr>\n",
       "    <tr>\n",
       "      <th>8</th>\n",
       "      <td>pound</td>\n",
       "      <td>loss</td>\n",
       "      <td>recov</td>\n",
       "      <td>fuck</td>\n",
       "    </tr>\n",
       "    <tr>\n",
       "      <th>9</th>\n",
       "      <td>year</td>\n",
       "      <td>progress</td>\n",
       "      <td>disord</td>\n",
       "      <td>tell</td>\n",
       "    </tr>\n",
       "  </tbody>\n",
       "</table>\n",
       "</div>"
      ],
      "text/plain": [
       "  Intermittent Fasting (original) Intermittent Fasting (removed twice)  \\\n",
       "0                            fast                                 fast   \n",
       "1                            week                                 hour   \n",
       "2                            hour                                   lb   \n",
       "3                            work                                  168   \n",
       "4                              lb                                pound   \n",
       "5                           start                            intermitt   \n",
       "6                             168                                 omad   \n",
       "7                            lose                                 goal   \n",
       "8                           pound                                 loss   \n",
       "9                            year                             progress   \n",
       "\n",
       "  Anorexia Nervosa (original) Anorexia Nervosa (removed twice)  \n",
       "0                        cant                               ed  \n",
       "1                        look                         anorexia  \n",
       "2                          ed                         recoveri  \n",
       "3                    anorexia                            recov  \n",
       "4                       peopl                           disord  \n",
       "5                    recoveri                             hate  \n",
       "6                       thing                         restrict  \n",
       "7                        gain                              bad  \n",
       "8                       recov                             fuck  \n",
       "9                      disord                             tell  "
      ]
     },
     "execution_count": 54,
     "metadata": {},
     "output_type": "execute_result"
    }
   ],
   "source": [
    "# Compare original top 10 unigrams with new top 10 unigrams (common words removed twice)\n",
    "re_unigram_df_2 = {\n",
    "    'Intermittent Fasting (original)': IF_unigram_S['term'],\n",
    "'Intermittent Fasting (removed twice)': re_IF_unigram_S_2['term'],\n",
    "    'Anorexia Nervosa (original)': AN_unigram_S ['term'],\n",
    "    'Anorexia Nervosa (removed twice)': re_AN_unigram_S_2['term']}\n",
    "\n",
    "pd.DataFrame(re_unigram_df_2)[0:10]"
   ]
  },
  {
   "cell_type": "code",
   "execution_count": 55,
   "id": "6e1b2897",
   "metadata": {},
   "outputs": [
    {
     "data": {
      "text/plain": [
       "<matplotlib_venn._common.VennDiagram at 0x7ff3331ace80>"
      ]
     },
     "execution_count": 55,
     "metadata": {},
     "output_type": "execute_result"
    },
    {
     "data": {
      "image/png": "[encoded data removed]",
      "text/plain": [
       "<Figure size 432x288 with 1 Axes>"
      ]
     },
     "metadata": {},
     "output_type": "display_data"
    }
   ],
   "source": [
    "# Check number of new common words in the top 100 unigrams in new list (common words removed twice)\n",
    "common_words_3 = list(set(re_IF_unigram_S_2['term'].tolist()).intersection(set(re_AN_unigram_S_2['term'].tolist())))\n",
    "\n",
    "venn2([set(re_IF_unigram_S_2['term']),set(re_AN_unigram_S_2['term'])],('r/intermittentfasting','r/AnorexiaNervosa'))"
   ]
  },
  {
   "cell_type": "code",
   "execution_count": 126,
   "id": "eb832938",
   "metadata": {},
   "outputs": [
    {
     "name": "stdout",
     "output_type": "stream",
     "text": [
      "['less', 'experi', 'enough', 'happi', 'that', 'mayb', 'etc', 'sometim', 'hungri']\n"
     ]
    }
   ],
   "source": [
    "# Retrieve all common words (third round)\n",
    "print (common_words_3)\n",
    "\n",
    "# Extend the common_words list with third list of common words\n",
    "common_words.extend(common_words_3)"
   ]
  },
  {
   "cell_type": "markdown",
   "id": "f3097f14",
   "metadata": {},
   "source": [
    "> <font size = 3 color = \"crimson\"> In my view this book and the cleaning book should have been combined into one. It makes more sense to go through the EDA and therefore explain why these were words we ultimately chose to take out, and then at the end of this notebook produce the 'final' cleaned csv. At present your cleaning notebook lacks context.</font>"
   ]
  },
  {
   "cell_type": "markdown",
   "id": "d399209d",
   "metadata": {},
   "source": [
    "---\n",
    "## 4. Exploratory Data Analysis\n",
    "### 4.1 Bigrams\n",
    "---\n",
    "### 4.1.1 Visualising Top Bigrams"
   ]
  },
  {
   "cell_type": "markdown",
   "id": "8980ae2b",
   "metadata": {},
   "source": [
    "**Note**:\n",
    "We will proceed to compare the 100 top bigrams (stemmed) across both subreddits to identify patterns in words that are appearing together:"
   ]
  },
  {
   "cell_type": "code",
   "execution_count": 109,
   "id": "28b01a3e",
   "metadata": {},
   "outputs": [],
   "source": [
    "# Custom function to identify common words\n",
    "def top_bigram (df,title):\n",
    "    cv = CountVectorizer(ngram_range=(2,2))\n",
    "    vector = cv.fit_transform(df[title])\n",
    "    vector_df = pd.DataFrame(vector.toarray(),columns=[cv.get_feature_names_out()])\n",
    "    vector_freq = vector_df.sum(axis=0) \n",
    "    vector_freq = pd.DataFrame({'term':cv.get_feature_names_out(),'freq':vector_freq})\n",
    "    top100 = vector_freq.sort_values(by='freq',ascending=False)[0:100]\n",
    "    return top100.reset_index(drop=True)"
   ]
  },
  {
   "cell_type": "code",
   "execution_count": 110,
   "id": "978550f6",
   "metadata": {},
   "outputs": [],
   "source": [
    "# Apply custom function to stemmed and lemmatized text from each subreddit\n",
    "IF_bigram_S = top_bigram(IF_posts,'title_text_stemmed')\n",
    "AN_bigram_S = top_bigram(AN_posts,'title_text_stemmed')"
   ]
  },
  {
   "cell_type": "code",
   "execution_count": 113,
   "id": "8d0ea6e6",
   "metadata": {},
   "outputs": [
    {
     "data": {
      "image/png": "[encoded data removed]",
      "text/plain": [
       "<Figure size 1440x576 with 2 Axes>"
      ]
     },
     "metadata": {
      "needs_background": "light"
     },
     "output_type": "display_data"
    }
   ],
   "source": [
    "# Plot top 10 stemmed bigrams\n",
    "fig, axes = plt.subplots(1, 2, figsize=(20, 8))\n",
    "\n",
    "# Plot the top common words before removing stop words\n",
    "sns.barplot(data=IF_bigram_S[0:10] , y='term', x='freq', color='orange', ax=axes[0])\n",
    "axes[0].set_ylabel(None, fontsize=14)\n",
    "axes[0].set_xlabel('Frequency', fontsize=14)\n",
    "axes[0].set_title('r/intermittentfasting',fontsize=14)\n",
    "\n",
    "# Plot the top common words before removing stop words\n",
    "sns.barplot(data=AN_bigram_S[0:10] , y='term', x='freq', color='grey', ax=axes[1])\n",
    "axes[1].set_ylabel(None, fontsize=14)\n",
    "axes[1].set_xlabel('Frequency', fontsize=14)\n",
    "axes[1].set_title('r/AnorexiaNervosa',fontsize=14)\n",
    "\n",
    "# Add data labels (values) to the bars\n",
    "def add_data_labels(ax):\n",
    "    for p in ax.patches:\n",
    "        ax.annotate(f'{p.get_width():.0f}', (p.get_width(), p.get_y() + p.get_height() / 2), ha='right', va='center',fontsize=14, color='white')\n",
    "\n",
    "# Add data labels to both subplots\n",
    "add_data_labels(axes[0])\n",
    "add_data_labels(axes[1])\n",
    "\n",
    "plt.subplots_adjust(wspace=0.25)\n",
    "\n",
    "\n",
    "# Add an overall title for all four plots\n",
    "fig.suptitle('Comparison of 10 Top Bigrams (Stemmed)', fontsize=16)\n",
    "\n",
    "plt.show()"
   ]
  },
  {
   "cell_type": "markdown",
   "id": "9c08aee2",
   "metadata": {},
   "source": [
    "**Analysis for Top Bigrams :** \n",
    "- **r/intermittentfasting**: Similar to unigrams, top bigrams in intermittent fasting are largely related to time. Posts also could be related to the process of entering and existing fasting - e.g. break fast, fast start, fast window, etc\n",
    "- **r/AnorexiaNervosa**: Top bigrams make references to one's state of being, control, and well-being - e.g. cant stop, sick enough, mental ill\n",
    "- There are food types mentioned across both subreddits (e.g. black coffee, ice cream) that could be used as identifiers for each classs"
   ]
  },
  {
   "cell_type": "code",
   "execution_count": 111,
   "id": "75937056",
   "metadata": {},
   "outputs": [],
   "source": [
    "# Created bigrams from cleaned text (common words removed twice)\n",
    "re_IF_bigram_S = top_bigram(IF_posts,'no_common_2')\n",
    "re_AN_bigram_S = top_bigram(AN_posts,'no_common_2')"
   ]
  },
  {
   "cell_type": "code",
   "execution_count": 112,
   "id": "4817ef28",
   "metadata": {},
   "outputs": [
    {
     "data": {
      "text/html": [
       "<div>\n",
       "<style scoped>\n",
       "    .dataframe tbody tr th:only-of-type {\n",
       "        vertical-align: middle;\n",
       "    }\n",
       "\n",
       "    .dataframe tbody tr th {\n",
       "        vertical-align: top;\n",
       "    }\n",
       "\n",
       "    .dataframe thead th {\n",
       "        text-align: right;\n",
       "    }\n",
       "</style>\n",
       "<table border=\"1\" class=\"dataframe\">\n",
       "  <thead>\n",
       "    <tr style=\"text-align: right;\">\n",
       "      <th></th>\n",
       "      <th>Intermittent Fasting (original)</th>\n",
       "      <th>Intermittent Fasting (removed twice)</th>\n",
       "      <th>Anorexia Nervosa (original)</th>\n",
       "      <th>Anorexia Nervosa (removed twice)</th>\n",
       "    </tr>\n",
       "  </thead>\n",
       "  <tbody>\n",
       "    <tr>\n",
       "      <th>0</th>\n",
       "      <td>intermitt fast</td>\n",
       "      <td>intermitt fast</td>\n",
       "      <td>cant stop</td>\n",
       "      <td>sick enough</td>\n",
       "    </tr>\n",
       "    <tr>\n",
       "      <th>1</th>\n",
       "      <td>break fast</td>\n",
       "      <td>break fast</td>\n",
       "      <td>sick enough</td>\n",
       "      <td>mental health</td>\n",
       "    </tr>\n",
       "    <tr>\n",
       "      <th>2</th>\n",
       "      <td>hour fast</td>\n",
       "      <td>hour fast</td>\n",
       "      <td>wish could</td>\n",
       "      <td>ice cream</td>\n",
       "    </tr>\n",
       "    <tr>\n",
       "      <th>3</th>\n",
       "      <td>face gain</td>\n",
       "      <td>fast hour</td>\n",
       "      <td>mental health</td>\n",
       "      <td>anorexia nervosa</td>\n",
       "    </tr>\n",
       "    <tr>\n",
       "      <th>4</th>\n",
       "      <td>black coffe</td>\n",
       "      <td>black coffe</td>\n",
       "      <td>ice cream</td>\n",
       "      <td>extrem hunger</td>\n",
       "    </tr>\n",
       "    <tr>\n",
       "      <th>5</th>\n",
       "      <td>fast hour</td>\n",
       "      <td>fast window</td>\n",
       "      <td>anorexia nervosa</td>\n",
       "      <td>best friend</td>\n",
       "    </tr>\n",
       "    <tr>\n",
       "      <th>6</th>\n",
       "      <td>fast start</td>\n",
       "      <td>fast water</td>\n",
       "      <td>look mirror</td>\n",
       "      <td>hate hate</td>\n",
       "    </tr>\n",
       "    <tr>\n",
       "      <th>7</th>\n",
       "      <td>fast window</td>\n",
       "      <td>type fast</td>\n",
       "      <td>mental ill</td>\n",
       "      <td>high school</td>\n",
       "    </tr>\n",
       "    <tr>\n",
       "      <th>8</th>\n",
       "      <td>fast water</td>\n",
       "      <td>daili fast</td>\n",
       "      <td>week ago</td>\n",
       "      <td>diagnos anorexia</td>\n",
       "    </tr>\n",
       "    <tr>\n",
       "      <th>9</th>\n",
       "      <td>comment post</td>\n",
       "      <td>hour etc</td>\n",
       "      <td>extrem hunger</td>\n",
       "      <td>struggl anorexia</td>\n",
       "    </tr>\n",
       "  </tbody>\n",
       "</table>\n",
       "</div>"
      ],
      "text/plain": [
       "  Intermittent Fasting (original) Intermittent Fasting (removed twice)  \\\n",
       "0                  intermitt fast                       intermitt fast   \n",
       "1                      break fast                           break fast   \n",
       "2                       hour fast                            hour fast   \n",
       "3                       face gain                            fast hour   \n",
       "4                     black coffe                          black coffe   \n",
       "5                       fast hour                          fast window   \n",
       "6                      fast start                           fast water   \n",
       "7                     fast window                            type fast   \n",
       "8                      fast water                           daili fast   \n",
       "9                    comment post                             hour etc   \n",
       "\n",
       "  Anorexia Nervosa (original) Anorexia Nervosa (removed twice)  \n",
       "0                   cant stop                      sick enough  \n",
       "1                 sick enough                    mental health  \n",
       "2                  wish could                        ice cream  \n",
       "3               mental health                 anorexia nervosa  \n",
       "4                   ice cream                    extrem hunger  \n",
       "5            anorexia nervosa                      best friend  \n",
       "6                 look mirror                        hate hate  \n",
       "7                  mental ill                      high school  \n",
       "8                    week ago                 diagnos anorexia  \n",
       "9               extrem hunger                 struggl anorexia  "
      ]
     },
     "execution_count": 112,
     "metadata": {},
     "output_type": "execute_result"
    }
   ],
   "source": [
    "# Comparing original top 10 bigrams with new top 10 bigrams (common words removed twice)\n",
    "\n",
    "re_bigram_df = {\n",
    "    'Intermittent Fasting (original)': IF_bigram_S['term'],\n",
    "'Intermittent Fasting (removed twice)': re_IF_bigram_S['term'],\n",
    "    'Anorexia Nervosa (original)': AN_bigram_S['term'],\n",
    "    'Anorexia Nervosa (removed twice)': re_AN_bigram_S['term']}\n",
    "\n",
    "pd.DataFrame(re_bigram_df)[0:10]"
   ]
  },
  {
   "cell_type": "markdown",
   "id": "a0e33670",
   "metadata": {},
   "source": [
    "**Analysis for Bigrams  (Stopwords Removed):** \n",
    "- **r/intermittentfasting**: There is little change to the list of bigrams after removal of stopwords. This seems to suggest that the top bigrams are relatively distinctive to this class.\n",
    "- **r/AnorexiaNervosa**: After removal of stopwords, the list of bigrams show a clearer focus on the discussion of the specific diagoses or struggles with anorexia, which appears 3 times in the list of top 10 bigrams."
   ]
  },
  {
   "cell_type": "markdown",
   "id": "e132726d",
   "metadata": {},
   "source": [
    "> <font size = 3 color = \"crimson\"> This is good. This is the kind of thing I was talking about earlier when I mentioned having some link showing why removal of the common words might be helpful. </font>"
   ]
  },
  {
   "cell_type": "markdown",
   "id": "be2a4194",
   "metadata": {},
   "source": [
    "---\n",
    "## 5. Exploratory Data Analysis\n",
    "### 5.1 Trigrams\n",
    "---"
   ]
  },
  {
   "cell_type": "markdown",
   "id": "7045d778",
   "metadata": {},
   "source": [
    "**Note**:\n",
    "We will proceed to compare the 100 top trigrams (stemmed) across both subreddits to identify patterns words that are appearing together:"
   ]
  },
  {
   "cell_type": "code",
   "execution_count": 102,
   "id": "ec5889f2",
   "metadata": {},
   "outputs": [],
   "source": [
    "# Custom function to identify trigrams\n",
    "def top_trigram (df,title):\n",
    "    cv = CountVectorizer(ngram_range=(3,3))\n",
    "    vector = cv.fit_transform(df[title])\n",
    "    vector_df = pd.DataFrame(vector.toarray(),columns=[cv.get_feature_names_out()])\n",
    "    vector_freq = vector_df.sum(axis=0) \n",
    "    vector_freq = pd.DataFrame({'term':cv.get_feature_names_out(),'freq':vector_freq})\n",
    "    top100 = vector_freq.sort_values(by='freq',ascending=False)[0:100]\n",
    "    return top100.reset_index(drop=True)"
   ]
  },
  {
   "cell_type": "code",
   "execution_count": 114,
   "id": "b210ef4f",
   "metadata": {},
   "outputs": [],
   "source": [
    "# Applying custom function to stemmed text from each subreddit\n",
    "IF_trigram_S = top_trigram(IF_posts,'title_text_stemmed')\n",
    "AN_trigram_S = top_trigram(AN_posts,'title_text_stemmed')"
   ]
  },
  {
   "cell_type": "code",
   "execution_count": 115,
   "id": "dd5d99b8",
   "metadata": {},
   "outputs": [],
   "source": [
    "# Created trigrams from cleaned text (common words removed twice)\n",
    "re_IF_trigram_S = top_trigram(IF_posts,'no_common_2')\n",
    "re_AN_trigram_S = top_trigram(AN_posts,'no_common_2')"
   ]
  },
  {
   "cell_type": "code",
   "execution_count": 116,
   "id": "93b650b8",
   "metadata": {},
   "outputs": [
    {
     "data": {
      "text/html": [
       "<div>\n",
       "<style scoped>\n",
       "    .dataframe tbody tr th:only-of-type {\n",
       "        vertical-align: middle;\n",
       "    }\n",
       "\n",
       "    .dataframe tbody tr th {\n",
       "        vertical-align: top;\n",
       "    }\n",
       "\n",
       "    .dataframe thead th {\n",
       "        text-align: right;\n",
       "    }\n",
       "</style>\n",
       "<table border=\"1\" class=\"dataframe\">\n",
       "  <thead>\n",
       "    <tr style=\"text-align: right;\">\n",
       "      <th></th>\n",
       "      <th>Intermittent Fasting (original)</th>\n",
       "      <th>Intermittent Fasting (removed twice)</th>\n",
       "      <th>Anorexia Nervosa (original)</th>\n",
       "      <th>Anorexia Nervosa (removed twice)</th>\n",
       "    </tr>\n",
       "  </thead>\n",
       "  <tbody>\n",
       "    <tr>\n",
       "      <th>0</th>\n",
       "      <td>post throughout sort</td>\n",
       "      <td>juic smoke etc</td>\n",
       "      <td>cant stop think</td>\n",
       "      <td>diagnos anorexia nervosa</td>\n",
       "    </tr>\n",
       "    <tr>\n",
       "      <th>1</th>\n",
       "      <td>context fast start</td>\n",
       "      <td>sort new newer</td>\n",
       "      <td>cant stand look</td>\n",
       "      <td>tw tw tw</td>\n",
       "    </tr>\n",
       "    <tr>\n",
       "      <th>2</th>\n",
       "      <td>comment new sure</td>\n",
       "      <td>type fast water</td>\n",
       "      <td>diagnos anorexia nervosa</td>\n",
       "      <td>bing restrict cycl</td>\n",
       "    </tr>\n",
       "    <tr>\n",
       "      <th>3</th>\n",
       "      <td>comment post throughout</td>\n",
       "      <td>daili fast checkin</td>\n",
       "      <td>long stori short</td>\n",
       "      <td>hate hate hate</td>\n",
       "    </tr>\n",
       "    <tr>\n",
       "      <th>4</th>\n",
       "      <td>fast hour etc</td>\n",
       "      <td>fast hour etc</td>\n",
       "      <td>bing restrict cycl</td>\n",
       "      <td>your sick enough</td>\n",
       "    </tr>\n",
       "    <tr>\n",
       "      <th>5</th>\n",
       "      <td>hour etc hope</td>\n",
       "      <td>fast note far</td>\n",
       "      <td>thought id share</td>\n",
       "      <td>photo ice cream</td>\n",
       "    </tr>\n",
       "    <tr>\n",
       "      <th>6</th>\n",
       "      <td>juic smoke etc</td>\n",
       "      <td>often throughout sort</td>\n",
       "      <td>tw tw tw</td>\n",
       "      <td>mental health servic</td>\n",
       "    </tr>\n",
       "    <tr>\n",
       "      <th>7</th>\n",
       "      <td>share sure check</td>\n",
       "      <td>fast water juic</td>\n",
       "      <td>havent eaten anyth</td>\n",
       "      <td>low blood sugar</td>\n",
       "    </tr>\n",
       "    <tr>\n",
       "      <th>8</th>\n",
       "      <td>smoke etc context</td>\n",
       "      <td>concern insight share</td>\n",
       "      <td>gain signific amount</td>\n",
       "      <td>suffer anorexia nervosa</td>\n",
       "    </tr>\n",
       "    <tr>\n",
       "      <th>9</th>\n",
       "      <td>far concern insight</td>\n",
       "      <td>context fast etc</td>\n",
       "      <td>photo ice cream</td>\n",
       "      <td>theyr sick enough</td>\n",
       "    </tr>\n",
       "  </tbody>\n",
       "</table>\n",
       "</div>"
      ],
      "text/plain": [
       "  Intermittent Fasting (original) Intermittent Fasting (removed twice)  \\\n",
       "0            post throughout sort                       juic smoke etc   \n",
       "1              context fast start                       sort new newer   \n",
       "2                comment new sure                      type fast water   \n",
       "3         comment post throughout                   daili fast checkin   \n",
       "4                   fast hour etc                        fast hour etc   \n",
       "5                   hour etc hope                        fast note far   \n",
       "6                  juic smoke etc                often throughout sort   \n",
       "7                share sure check                      fast water juic   \n",
       "8               smoke etc context                concern insight share   \n",
       "9             far concern insight                     context fast etc   \n",
       "\n",
       "  Anorexia Nervosa (original) Anorexia Nervosa (removed twice)  \n",
       "0             cant stop think         diagnos anorexia nervosa  \n",
       "1             cant stand look                         tw tw tw  \n",
       "2    diagnos anorexia nervosa               bing restrict cycl  \n",
       "3            long stori short                   hate hate hate  \n",
       "4          bing restrict cycl                 your sick enough  \n",
       "5            thought id share                  photo ice cream  \n",
       "6                    tw tw tw             mental health servic  \n",
       "7          havent eaten anyth                  low blood sugar  \n",
       "8        gain signific amount          suffer anorexia nervosa  \n",
       "9             photo ice cream                theyr sick enough  "
      ]
     },
     "execution_count": 116,
     "metadata": {},
     "output_type": "execute_result"
    }
   ],
   "source": [
    "# Comparing original top 10 trigrams with new top 10 trigrams (common words removed twice)\n",
    "\n",
    "re_trigram_df = {\n",
    "    'Intermittent Fasting (original)': IF_trigram_S['term'],\n",
    "'Intermittent Fasting (removed twice)': re_IF_trigram_S['term'],\n",
    "    'Anorexia Nervosa (original)': AN_trigram_S['term'],\n",
    "    'Anorexia Nervosa (removed twice)': re_AN_trigram_S['term']}\n",
    "\n",
    "pd.DataFrame(re_trigram_df)[0:10]"
   ]
  },
  {
   "cell_type": "markdown",
   "id": "f40cec58",
   "metadata": {},
   "source": [
    "**Analysis for Trigrams (Stopwords Removed):**\n",
    "- **r/intermittentfasting**: For both the original text and text after removal of stopword, the top trigrams appear less meaningful than bigrams in any identifiable English phrases .\n",
    "- **r/AnorexiaNervosa**: The top trigrams of 'cant stop think' and 'cant stand look' which could be related to control disappear after stopwords are removed. This seems to suggest that patterns of common words could be distinctive to this class, and excessive removal of stopwords may obscure this pattern. However, removal of stopwords also surface new distinctive phrases that could describe symptoms faced by persons diagnosed with anorexia - e.g. low blood sugar\n",
    "- **Note**: There are 36 top trigrams for r/intermittentfasting at counts of 33 occurences each. Hence we found it less meaningful to plot the counts of top trigrams."
   ]
  },
  {
   "cell_type": "markdown",
   "id": "abb241dc",
   "metadata": {},
   "source": [
    "---\n",
    "**Next:** [Part 4 - Pre-processing & Modelling](Part%204%20-%20Pre-processing%20&%20Modelling.ipynb)"
   ]
  }
 ],
 "metadata": {
  "kernelspec": {
   "display_name": "Python 3 (ipykernel)",
   "language": "python",
   "name": "python3"
  },
  "language_info": {
   "codemirror_mode": {
    "name": "ipython",
    "version": 3
   },
   "file_extension": ".py",
   "mimetype": "text/x-python",
   "name": "python",
   "nbconvert_exporter": "python",
   "pygments_lexer": "ipython3",
   "version": "3.11.5"
  }
 },
 "nbformat": 4,
 "nbformat_minor": 5
}
